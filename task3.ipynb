{
 "cells": [
  {
   "cell_type": "code",
   "execution_count": 1,
   "metadata": {},
   "outputs": [],
   "source": [
    "from fmm import FastMapMatch,Network,NetworkGraph,UBODTGenAlgorithm,UBODT,FastMapMatchConfig"
   ]
  },
  {
   "cell_type": "markdown",
   "metadata": {},
   "source": [
    "### Read network and graph"
   ]
  },
  {
   "cell_type": "code",
   "execution_count": 2,
   "metadata": {},
   "outputs": [
    {
     "name": "stdout",
     "output_type": "stream",
     "text": [
      "Nodes 31588 edges 72785\n"
     ]
    }
   ],
   "source": [
    "network = Network(\"data/porto-bbox/edges.shp\",\"fid\", \"u\", \"v\")\n",
    "print \"Nodes {} edges {}\".format(network.get_node_count(),network.get_edge_count())\n",
    "graph = NetworkGraph(network)"
   ]
  },
  {
   "cell_type": "markdown",
   "metadata": {},
   "source": [
    "### Precompute UBODT"
   ]
  },
  {
   "cell_type": "code",
   "execution_count": 3,
   "metadata": {},
   "outputs": [
    {
     "name": "stdout",
     "output_type": "stream",
     "text": [
      "Status: success\n",
      "Time takes 47.825 seconds\n",
      "\n"
     ]
    }
   ],
   "source": [
    "# Can be skipped if you already generated an ubodt file\n",
    "ubodt_gen = UBODTGenAlgorithm(network,graph)\n",
    "# The delta is defined as 3 km approximately. 0.03 degrees. \n",
    "status = ubodt_gen.generate_ubodt(\"data/ubodt.txt\", 0.03, binary=False, use_omp=True)\n",
    "# Binary is faster for both IO and precomputation\n",
    "# status = ubodt_gen.generate_ubodt(\"data/ubodt.txt\", 0.03, binary=True, use_omp=True)\n",
    "print status"
   ]
  },
  {
   "cell_type": "markdown",
   "metadata": {},
   "source": [
    "### Create FMM model"
   ]
  },
  {
   "cell_type": "code",
   "execution_count": 4,
   "metadata": {},
   "outputs": [],
   "source": [
    "### Read UBODT\n",
    "ubodt = UBODT.read_ubodt_csv(\"data/ubodt.txt\")\n",
    "### Create FMM model\n",
    "fmm_model = FastMapMatch(network,graph,ubodt)"
   ]
  },
  {
   "cell_type": "code",
   "execution_count": 5,
   "metadata": {},
   "outputs": [],
   "source": [
    "k = 8\n",
    "radius = 0.003\n",
    "gps_error = 0.0005\n",
    "fmm_config = FastMapMatchConfig(k,radius,gps_error)"
   ]
  },
  {
   "cell_type": "markdown",
   "metadata": {},
   "source": [
    "### Run map matching for wkt"
   ]
  },
  {
   "cell_type": "code",
   "execution_count": 6,
   "metadata": {},
   "outputs": [
    {
     "name": "stdout",
     "output_type": "stream",
     "text": [
      "Opath  [1095, 1095]\n",
      "Cpath  [1095]\n",
      "WKT  LINESTRING(-8.6186233 41.141456,-8.6184903 41.141395)\n"
     ]
    }
   ],
   "source": [
    "# wkt = \"LINESTRING(18.05522129697668 59.335820514008,18.050801016520136 59.33614881818502)\"\n",
    "wkt='LINESTRING(-8.618643 41.141412,-8.618499 41.141376)'\n",
    "result = fmm_model.match_wkt(wkt,fmm_config)\n",
    "### Print map matching result\n",
    "print \"Opath \",list(result.opath)\n",
    "print \"Cpath \",list(result.cpath)\n",
    "print \"WKT \",result.mgeom.export_wkt()"
   ]
  },
  {
   "cell_type": "markdown",
   "metadata": {},
   "source": [
    "### Create stmatch model"
   ]
  },
  {
   "cell_type": "code",
   "execution_count": 7,
   "metadata": {},
   "outputs": [],
   "source": [
    "from fmm import Network,NetworkGraph,STMATCH,STMATCHConfig"
   ]
  },
  {
   "cell_type": "code",
   "execution_count": 8,
   "metadata": {},
   "outputs": [],
   "source": [
    "stmatch_model = STMATCH(network,graph)"
   ]
  },
  {
   "cell_type": "code",
   "execution_count": 9,
   "metadata": {},
   "outputs": [],
   "source": [
    "k = 4\n",
    "gps_error = 0.0005\n",
    "radius = 0.003\n",
    "vmax = 0.0003\n",
    "factor = 1.5\n",
    "stmatch_config = STMATCHConfig(k, radius, gps_error, vmax, factor)"
   ]
  },
  {
   "cell_type": "code",
   "execution_count": 10,
   "metadata": {},
   "outputs": [
    {
     "name": "stdout",
     "output_type": "stream",
     "text": [
      "Opath  [1095, 1095, 2732, 2732, 1093, 1093, 698, 698, 696, 8687, 17386, 3607, 3607, 2723, 2723, 1337, 1339, 41290, 1435, 1434, 1434, 1434, 1434]\n",
      "Cpath  [1095, 2732, 1093, 698, 8704, 62550, 8703, 696, 8687, 17386, 3607, 5509, 2723, 1337, 1339, 55275, 41288, 41290, 61207, 58489, 1435, 1434]\n",
      "WKT  LINESTRING(-8.6186233 41.141456,-8.6183463 41.14133,-8.6182629 41.141292,-8.6174342 41.140917,-8.6182629 41.141292,-8.6183463 41.14133,-8.6187144 41.141497,-8.6188491 41.141582,-8.6198235 41.142218,-8.6200853 41.142389,-8.6202318 41.14249,-8.6203556 41.142575,-8.6209478 41.143157,-8.6212837 41.143398,-8.6213339 41.143434,-8.6216294 41.143598,-8.6216904 41.143624,-8.6220438 41.143771,-8.6225335 41.143949,-8.6231598 41.144138,-8.6235745 41.144265,-8.6243174 41.144494,-8.6247666 41.144632,-8.6250934 41.144735,-8.6254106 41.144793,-8.6266799 41.14476,-8.6267551 41.144759,-8.6268987 41.144728,-8.627037 41.144713,-8.6271975 41.1447,-8.6273413 41.144688,-8.6274999 41.144678,-8.6276791 41.14467,-8.6278804 41.144665,-8.6280428 41.144668,-8.6282135 41.144678,-8.6284404 41.144699,-8.6286688 41.144731,-8.628864 41.144764,-8.6290926 41.144817,-8.6292898 41.144868,-8.6294324 41.144912,-8.6295694 41.144961,-8.6297382 41.145024,-8.6299469 41.14512,-8.6301362 41.145216,-8.6303271 41.145324,-8.6307201 41.145592,-8.6307923 41.145641,-8.6314509 41.146137,-8.6315556 41.146204,-8.6316434 41.14626,-8.6318066 41.146363,-8.6326775 41.146843,-8.6328764 41.146954,-8.6327796 41.147062,-8.6327668 41.147077,-8.6327023 41.147151,-8.6326805 41.147177,-8.631553 41.148453,-8.6314991 41.148514,-8.6310069 41.149082,-8.6308723 41.149237,-8.6302954 41.149903,-8.6299508 41.150301,-8.6295157 41.150808,-8.6294233 41.150916,-8.6293113 41.151044,-8.6291323 41.151246,-8.6290736 41.151312,-8.6289862 41.151477,-8.6289736 41.15158,-8.6287691 41.152377,-8.628743 41.152478,-8.6289655 41.152491,-8.6301016 41.152554,-8.6304904 41.152576,-8.6306176 41.152584,-8.6308068 41.152592,-8.6309917 41.152601,-8.6313575 41.152617,-8.6314821 41.15268,-8.6321685 41.15273,-8.6322295 41.152796,-8.6322941 41.152875,-8.6322538 41.15327,-8.6321804 41.153466,-8.6322 41.153604,-8.6321425 41.153694,-8.6320578 41.153797,-8.6319654 41.153888,-8.6318622 41.153974,-8.6318156 41.154007,-8.6317376 41.154068,-8.6313664 41.15433,-8.6310274 41.154568,-8.6308755 41.154531,-8.6307169 41.154492,-8.6307169 41.154492)\n"
     ]
    }
   ],
   "source": [
    "# wkt = \"LINESTRING(18.05522129697668 59.335820514008,18.050801016520136 59.33614881818502,18.04796860380041 59.33905964310512,18.046037413309687 59.341029232754444,18.049084402750605 59.34262670491522,18.052775122355097 59.34328317853977,18.056809164713496 59.34273611806721,18.059298254679316 59.34006633652867)\"\n",
    "wkt='LINESTRING(-8.618643 41.141412,-8.618499 41.141376,-8.620326 41.14251,-8.622153 41.143815,-8.623953 41.144373,-8.62668 41.144778,-8.627373 41.144697,-8.630226 41.14521,-8.632746 41.14692,-8.631738 41.148225,-8.629938 41.150385,-8.62911 41.151213,-8.629128 41.15124,-8.628786 41.152203,-8.628687 41.152374,-8.628759 41.152518,-8.630838 41.15268,-8.632323 41.153022,-8.631144 41.154489,-8.630829 41.154507,-8.630829 41.154516,-8.630829 41.154498,-8.630838 41.154489)'\n",
    "result = fmm_model.match_wkt(wkt,fmm_config)\n",
    "### Print map matching result\n",
    "print \"Opath \",list(result.opath)\n",
    "print \"Cpath \",list(result.cpath)\n",
    "# print \"spdist\",list(result.spdist)\n",
    "print \"WKT \",result.mgeom.export_wkt()"
   ]
  },
  {
   "cell_type": "markdown",
   "metadata": {},
   "source": [
    "### Match GPS data stored in a file¶"
   ]
  },
  {
   "cell_type": "code",
   "execution_count": 11,
   "metadata": {},
   "outputs": [],
   "source": [
    "from fmm import GPSConfig,ResultConfig"
   ]
  },
  {
   "cell_type": "code",
   "execution_count": 12,
   "metadata": {},
   "outputs": [
    {
     "name": "stdout",
     "output_type": "stream",
     "text": [
      "(1000, 1000)\n",
      "['1;LINESTRING(-8.618643 41.141412', '-8.618499 41.141376', '-8.620326 41.14251', '-8.622153 41.143815', '-8.623953 41.144373', '-8.62668 41.144778', '-8.627373 41.144697', '-8.630226 41.14521', '-8.632746 41.14692', '-8.631738 41.148225', '-8.629938 41.150385', '-8.62911 41.151213', '-8.629128 41.15124', '-8.628786 41.152203', '-8.628687 41.152374', '-8.628759 41.152518', '-8.630838 41.15268', '-8.632323 41.153022', '-8.631144 41.154489', '-8.630829 41.154507', '-8.630829 41.154516', '-8.630829 41.154498', '-8.630838 41.154489)']\n"
     ]
    }
   ],
   "source": [
    "import pandas as pd\n",
    "import csv\n",
    "raw_trips = pd.read_csv('data/train-1000.csv')\n",
    "from ast import literal_eval\n",
    "raw_trajectories = [literal_eval(raw_trips['POLYLINE'].iloc[i]) for i in range(len(raw_trips.index))]\n",
    "# ids=[raw_trips['TRIP_ID'].iloc[i] for i in range(len(raw_trips.index))]\n",
    "ids=[i+1 for i in range(len(raw_trips.index))]\n",
    "# print(raw_trajectories[0])\n",
    "print(len(ids),len(raw_trajectories))\n",
    "trajectories=[[str(indx[0])+' '+str(indx[1]) for indx in trajectory] for trajectory in raw_trajectories  ]\n",
    "# print(trajectories[0])\n",
    "\n",
    "trips=[['id;geom']]\n",
    "for trip,index in zip(trajectories,ids):\n",
    "    if len(trip)>0:\n",
    "        one_trip=[str(index)+';LINESTRING('+trip[0]]\n",
    "        if len(trip)>1:\n",
    "            for indx in trip[1:-1]:\n",
    "                one_trip.append(indx)\n",
    "\n",
    "        one_trip.append(trip[-1]+')')\n",
    "        trips.append(one_trip)\n",
    "print(trips[1])\n",
    "with open('data/trips.csv','w') as df:\n",
    "    writer=csv.writer(df)\n",
    "    writer=writer.writerows(trips[:])\n",
    "df.close()\n",
    "# df=pd.DataFrame({'id':ids,'geom':trips})\n",
    "# df.to_csv('data/trips.csv',index=0)"
   ]
  },
  {
   "cell_type": "code",
   "execution_count": 13,
   "metadata": {},
   "outputs": [
    {
     "name": "stdout",
     "output_type": "stream",
     "text": [
      "gps file : data/trips.csv\n",
      "id column : id\n",
      "geom column : geom\n",
      "timestamp column : timestamp\n",
      "x column : x\n",
      "y column : y\n",
      "GPS point : false\n",
      "\n"
     ]
    }
   ],
   "source": [
    "# Define input data configuration\n",
    "input_config = GPSConfig()\n",
    "input_config.file = \"data/trips.csv\"\n",
    "input_config.id = \"id\"\n",
    "print input_config.to_string()"
   ]
  },
  {
   "cell_type": "code",
   "execution_count": 18,
   "metadata": {},
   "outputs": [
    {
     "name": "stdout",
     "output_type": "stream",
     "text": [
      "Result file : data/mr.csv\n",
      "Output fields: opath pgeom cpath mgeom \n"
     ]
    }
   ],
   "source": [
    "# Define output configuration\n",
    "result_config = ResultConfig()\n",
    "result_config.file = \"data/mr.csv\"\n",
    "result_config.output_config.write_opath = True\n",
    "# result_config.output_config.write_duration = True\n",
    "# result_config.output_config.write_spdlist = True\n",
    "result_config.output_config.write_mgeom = True\n",
    "result_config.output_config.write_pgeom = True\n",
    "\n",
    "print result_config.to_string()\n"
   ]
  },
  {
   "cell_type": "code",
   "execution_count": 19,
   "metadata": {},
   "outputs": [
    {
     "name": "stdout",
     "output_type": "stream",
     "text": [
      "Status: success\n",
      "Time takes 1.516 seconds\n",
      "Total points 47337 matched 44086\n",
      "Total trajectories 999 matched 948\n",
      "Map match percentage 0.931322\n",
      "Map match speed 29080.5 points/s \n",
      "\n"
     ]
    }
   ],
   "source": [
    "status = fmm_model.match_gps_file(input_config, result_config, fmm_config, use_omp = True)\n",
    "print status"
   ]
  },
  {
   "cell_type": "code",
   "execution_count": 20,
   "metadata": {},
   "outputs": [
    {
     "name": "stdout",
     "output_type": "stream",
     "text": [
      "Status: success\n",
      "Time takes 5.144 seconds\n",
      "Total points 47337 matched 46192\n",
      "Map match speed 8979.78 points/s \n",
      "\n"
     ]
    }
   ],
   "source": [
    "status = stmatch_model.match_gps_file(input_config, result_config, stmatch_config, use_omp = True)\n",
    "print status"
   ]
  },
  {
   "cell_type": "code",
   "execution_count": null,
   "metadata": {},
   "outputs": [],
   "source": []
  },
  {
   "cell_type": "code",
   "execution_count": null,
   "metadata": {},
   "outputs": [],
   "source": []
  }
 ],
 "metadata": {
  "kernelspec": {
   "display_name": "Python 2",
   "language": "python",
   "name": "python2"
  },
  "language_info": {
   "codemirror_mode": {
    "name": "ipython",
    "version": 2
   },
   "file_extension": ".py",
   "mimetype": "text/x-python",
   "name": "python",
   "nbconvert_exporter": "python",
   "pygments_lexer": "ipython2",
   "version": "2.7.15"
  }
 },
 "nbformat": 4,
 "nbformat_minor": 2
}