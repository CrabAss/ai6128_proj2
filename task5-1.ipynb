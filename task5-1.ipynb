{
 "metadata": {
  "language_info": {
   "codemirror_mode": {
    "name": "ipython",
    "version": 3
   },
   "file_extension": ".py",
   "mimetype": "text/x-python",
   "name": "python",
   "nbconvert_exporter": "python",
   "pygments_lexer": "ipython3",
   "version": "3.8.5-final"
  },
  "orig_nbformat": 2,
  "kernelspec": {
   "name": "python3",
   "display_name": "Python 3"
  }
 },
 "nbformat": 4,
 "nbformat_minor": 2,
 "cells": [
  {
   "source": [
    "## Get 5 road segments that are traversed the most often"
   ],
   "cell_type": "markdown",
   "metadata": {}
  },
  {
   "cell_type": "code",
   "execution_count": 1,
   "metadata": {},
   "outputs": [
    {
     "output_type": "execute_result",
     "data": {
      "text/plain": [
       "                                                  opath  \\\n",
       "id                                                        \n",
       "1     1095,1095,2732,2732,1093,1093,698,698,696,8687...   \n",
       "2     56205,56205,4790,70940,762,26201,26213,26202,5...   \n",
       "5     67262,67262,67260,5878,5880,61719,765,70690,73...   \n",
       "6     62561,58603,701,26471,55235,55235,55235,55235,...   \n",
       "7     993,1015,1015,3529,5139,69303,69300,40862,4086...   \n",
       "...                                                 ...   \n",
       "994   56938,56938,56938,56938,56938,56938,56936,5693...   \n",
       "995   56205,56205,56205,56205,69908,10482,4788,68423...   \n",
       "998   69300,69300,40862,40862,68548,40863,69301,6930...   \n",
       "999   26480,26480,26480,26480,26480,1381,1381,1381,1...   \n",
       "1000  65295,65295,65295,65295,65295,65295,65295,6529...   \n",
       "\n",
       "                                                  cpath  \\\n",
       "id                                                        \n",
       "1     1095,2732,1093,698,8704,62550,8703,696,8687,17...   \n",
       "2     56205,69910,69917,69912,4790,56207,26241,70940...   \n",
       "5     67262,67260,57887,67265,5875,5878,5880,41236,6...   \n",
       "6     62561,58603,58083,65094,57135,701,26471,55235,...   \n",
       "7     993,1015,3529,10723,5139,10772,69304,69303,693...   \n",
       "...                                                 ...   \n",
       "994   56938,56936,1645,64636,1519,55259,55256,1389,1...   \n",
       "995   56205,69911,69908,69915,56208,10482,68418,4788...   \n",
       "998   69300,40862,68548,68549,40865,40863,40862,6854...   \n",
       "999   26480,1381,1384,1388,62565,58941,1515,66065,15...   \n",
       "1000  65295,5413,5385,61516,832,903,174,62758,6540,7...   \n",
       "\n",
       "                                                  mgeom  \n",
       "id                                                       \n",
       "1     LINESTRING(-8.61862328377 41.1414555366,-8.618...  \n",
       "2     LINESTRING(-8.63985895545 41.159750087,-8.6405...  \n",
       "5     LINESTRING(-8.6457599 41.1805278,-8.645788 41....  \n",
       "6     LINESTRING(-8.61551679314 41.140715625,-8.6154...  \n",
       "7     LINESTRING(-8.579496154 41.1459330735,-8.57952...  \n",
       "...                                                 ...  \n",
       "994   LINESTRING(-8.59697443774 41.1507050705,-8.596...  \n",
       "995   LINESTRING(-8.63982479396 41.1597447069,-8.640...  \n",
       "998   LINESTRING(-8.58610277406 41.1485589137,-8.586...  \n",
       "999   LINESTRING(-8.60648698734 41.1483614519,-8.606...  \n",
       "1000  LINESTRING(-8.60008501999 41.1828016703,-8.599...  \n",
       "\n",
       "[948 rows x 3 columns]"
      ],
      "text/html": "<div>\n<style scoped>\n    .dataframe tbody tr th:only-of-type {\n        vertical-align: middle;\n    }\n\n    .dataframe tbody tr th {\n        vertical-align: top;\n    }\n\n    .dataframe thead th {\n        text-align: right;\n    }\n</style>\n<table border=\"1\" class=\"dataframe\">\n  <thead>\n    <tr style=\"text-align: right;\">\n      <th></th>\n      <th>opath</th>\n      <th>cpath</th>\n      <th>mgeom</th>\n    </tr>\n    <tr>\n      <th>id</th>\n      <th></th>\n      <th></th>\n      <th></th>\n    </tr>\n  </thead>\n  <tbody>\n    <tr>\n      <th>1</th>\n      <td>1095,1095,2732,2732,1093,1093,698,698,696,8687...</td>\n      <td>1095,2732,1093,698,8704,62550,8703,696,8687,17...</td>\n      <td>LINESTRING(-8.61862328377 41.1414555366,-8.618...</td>\n    </tr>\n    <tr>\n      <th>2</th>\n      <td>56205,56205,4790,70940,762,26201,26213,26202,5...</td>\n      <td>56205,69910,69917,69912,4790,56207,26241,70940...</td>\n      <td>LINESTRING(-8.63985895545 41.159750087,-8.6405...</td>\n    </tr>\n    <tr>\n      <th>5</th>\n      <td>67262,67262,67260,5878,5880,61719,765,70690,73...</td>\n      <td>67262,67260,57887,67265,5875,5878,5880,41236,6...</td>\n      <td>LINESTRING(-8.6457599 41.1805278,-8.645788 41....</td>\n    </tr>\n    <tr>\n      <th>6</th>\n      <td>62561,58603,701,26471,55235,55235,55235,55235,...</td>\n      <td>62561,58603,58083,65094,57135,701,26471,55235,...</td>\n      <td>LINESTRING(-8.61551679314 41.140715625,-8.6154...</td>\n    </tr>\n    <tr>\n      <th>7</th>\n      <td>993,1015,1015,3529,5139,69303,69300,40862,4086...</td>\n      <td>993,1015,3529,10723,5139,10772,69304,69303,693...</td>\n      <td>LINESTRING(-8.579496154 41.1459330735,-8.57952...</td>\n    </tr>\n    <tr>\n      <th>...</th>\n      <td>...</td>\n      <td>...</td>\n      <td>...</td>\n    </tr>\n    <tr>\n      <th>994</th>\n      <td>56938,56938,56938,56938,56938,56938,56936,5693...</td>\n      <td>56938,56936,1645,64636,1519,55259,55256,1389,1...</td>\n      <td>LINESTRING(-8.59697443774 41.1507050705,-8.596...</td>\n    </tr>\n    <tr>\n      <th>995</th>\n      <td>56205,56205,56205,56205,69908,10482,4788,68423...</td>\n      <td>56205,69911,69908,69915,56208,10482,68418,4788...</td>\n      <td>LINESTRING(-8.63982479396 41.1597447069,-8.640...</td>\n    </tr>\n    <tr>\n      <th>998</th>\n      <td>69300,69300,40862,40862,68548,40863,69301,6930...</td>\n      <td>69300,40862,68548,68549,40865,40863,40862,6854...</td>\n      <td>LINESTRING(-8.58610277406 41.1485589137,-8.586...</td>\n    </tr>\n    <tr>\n      <th>999</th>\n      <td>26480,26480,26480,26480,26480,1381,1381,1381,1...</td>\n      <td>26480,1381,1384,1388,62565,58941,1515,66065,15...</td>\n      <td>LINESTRING(-8.60648698734 41.1483614519,-8.606...</td>\n    </tr>\n    <tr>\n      <th>1000</th>\n      <td>65295,65295,65295,65295,65295,65295,65295,6529...</td>\n      <td>65295,5413,5385,61516,832,903,174,62758,6540,7...</td>\n      <td>LINESTRING(-8.60008501999 41.1828016703,-8.599...</td>\n    </tr>\n  </tbody>\n</table>\n<p>948 rows × 3 columns</p>\n</div>"
     },
     "metadata": {},
     "execution_count": 1
    }
   ],
   "source": [
    "import pandas as pd\n",
    "# import shapely.wkt\n",
    "\n",
    "mr = pd.read_csv('data/mr.csv', sep=';', index_col=0)\n",
    "mr.sort_index(inplace=True)\n",
    "mr = mr.loc[mr['mgeom'] != 'LINESTRING()']\n",
    "# mr['mgeom'] = mr['mgeom'].apply(shapely.wkt.loads)\n",
    "mr"
   ]
  },
  {
   "cell_type": "code",
   "execution_count": 2,
   "metadata": {},
   "outputs": [],
   "source": [
    "road_segments = mr['cpath'].tolist()\n",
    "road_segments = \",\".join(road_segments).split(\",\")\n",
    "road_segments = [int(i) for i in road_segments]\n",
    "road_segments.sort()"
   ]
  },
  {
   "cell_type": "code",
   "execution_count": 6,
   "metadata": {},
   "outputs": [
    {
     "output_type": "stream",
     "name": "stdout",
     "text": [
      "5 FIDs of the road segments which are traversed most often:\n[2481, 608, 2433, 2434, 2489]\n"
     ]
    }
   ],
   "source": [
    "import collections\n",
    "counter = collections.Counter(road_segments)\n",
    "result = counter.most_common(5)\n",
    "result = [i[0] for i in result]\n",
    "print(\"5 FIDs of the road segments which are traversed most often:\")\n",
    "print(result)"
   ]
  },
  {
   "source": [
    "## Visualize these road segments"
   ],
   "cell_type": "markdown",
   "metadata": {}
  },
  {
   "cell_type": "code",
   "execution_count": 17,
   "metadata": {},
   "outputs": [
    {
     "output_type": "execute_result",
     "data": {
      "text/plain": [
       "fid\n",
       "608     LINESTRING (-8.6678023 41.2363728, -8.66791560...\n",
       "2433    LINESTRING (-8.664968999999999 41.2261891, -8....\n",
       "2434    LINESTRING (-8.666010200000001 41.2271823, -8....\n",
       "2481    LINESTRING (-8.6680157 41.2299263, -8.6679482 ...\n",
       "2489    LINESTRING (-8.6628618 41.2239767, -8.6639233 ...\n",
       "Name: WKT, dtype: object"
      ]
     },
     "metadata": {},
     "execution_count": 17
    }
   ],
   "source": [
    "import osmnx as ox\n",
    "import shapely.wkt\n",
    "\n",
    "G = ox.load_graphml('data/porto-bbox.graphml')\n",
    "\n",
    "edges = pd.read_csv('data/porto-bbox/edges.csv', index_col='fid')['WKT']\n",
    "edges = edges[edges.index.isin(result)]\n",
    "edges = edges.apply(shapely.wkt.loads)\n",
    "edges\n"
   ]
  },
  {
   "cell_type": "code",
   "execution_count": 18,
   "metadata": {},
   "outputs": [],
   "source": [
    "import numpy as np\n",
    "coords = [np.array([list(i) for i in edges.iloc[j].coords]) for j in range(len(edges.index))]\n"
   ]
  },
  {
   "cell_type": "code",
   "execution_count": 15,
   "metadata": {},
   "outputs": [],
   "source": [
    "import matplotlib.pyplot as plt\n",
    "\n",
    "# Draw the basemap\n",
    "fig, ax = ox.plot_graph(G, node_size=0, show=False, close=False, figsize=(48, 48))\n",
    "\n",
    "# Get colors for each of the first 10 trajectories\n",
    "color_list = ox.plot.get_colors(5, cmap='rainbow', return_hex=True)\n",
    "\n",
    "# Plot the raw GPS points on the basemap\n",
    "for idx, c in enumerate(color_list):\n",
    "    plt.plot(*coords[idx].T, color=c, linewidth=4)\n",
    "\n",
    "# Save the map as an image file\n",
    "fig.savefig('output/task5-1.png', bbox_inches='tight', pad_inches=0)\n",
    "# plt.show()\n",
    "plt.close(fig)"
   ]
  }
 ]
}