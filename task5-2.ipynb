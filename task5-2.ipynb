{
 "cells": [
  {
   "cell_type": "markdown",
   "metadata": {},
   "source": [
    "## Get 5 road segments that have largest average travelling time"
   ]
  },
  {
   "cell_type": "code",
   "execution_count": 1,
   "metadata": {},
   "outputs": [
    {
     "data": {
      "text/html": [
       "<div>\n",
       "<style scoped>\n",
       "    .dataframe tbody tr th:only-of-type {\n",
       "        vertical-align: middle;\n",
       "    }\n",
       "\n",
       "    .dataframe tbody tr th {\n",
       "        vertical-align: top;\n",
       "    }\n",
       "\n",
       "    .dataframe thead th {\n",
       "        text-align: right;\n",
       "    }\n",
       "</style>\n",
       "<table border=\"1\" class=\"dataframe\">\n",
       "  <thead>\n",
       "    <tr style=\"text-align: right;\">\n",
       "      <th></th>\n",
       "      <th>opath</th>\n",
       "      <th>pgeom</th>\n",
       "      <th>cpath</th>\n",
       "      <th>mgeom</th>\n",
       "    </tr>\n",
       "    <tr>\n",
       "      <th>id</th>\n",
       "      <th></th>\n",
       "      <th></th>\n",
       "      <th></th>\n",
       "      <th></th>\n",
       "    </tr>\n",
       "  </thead>\n",
       "  <tbody>\n",
       "    <tr>\n",
       "      <th>1</th>\n",
       "      <td>1095,1095,2732,2732,1093,1093,698,698,696,8687...</td>\n",
       "      <td>LINESTRING(-8.61862328377 41.1414555366,-8.618...</td>\n",
       "      <td>1095,2732,1093,698,8704,62550,8703,696,8687,17...</td>\n",
       "      <td>LINESTRING(-8.61862328377 41.1414555366,-8.618...</td>\n",
       "    </tr>\n",
       "    <tr>\n",
       "      <th>2</th>\n",
       "      <td>56205,56205,4790,70940,762,26201,26213,26202,5...</td>\n",
       "      <td>LINESTRING(-8.63985895545 41.159750087,-8.6403...</td>\n",
       "      <td>56205,69910,69917,69912,4790,56207,26241,70940...</td>\n",
       "      <td>LINESTRING(-8.63985895545 41.159750087,-8.6405...</td>\n",
       "    </tr>\n",
       "    <tr>\n",
       "      <th>4</th>\n",
       "      <td>5224,5224,5224,5224,46845,46845,46845,46846,46...</td>\n",
       "      <td>LINESTRING(-8.5747537 41.1518991,-8.5747537 41...</td>\n",
       "      <td>5224,46845,46861,46846,1004,1006,993,1015,3529...</td>\n",
       "      <td>LINESTRING(-8.5747537 41.1518991,-8.5743688 41...</td>\n",
       "    </tr>\n",
       "    <tr>\n",
       "      <th>5</th>\n",
       "      <td>60302,60302,67260,5878,5880,61719,765,70690,73...</td>\n",
       "      <td>LINESTRING(-8.6457599 41.1805278,-8.6457599 41...</td>\n",
       "      <td>60302,67260,57887,67265,5875,5878,5880,41236,6...</td>\n",
       "      <td>LINESTRING(-8.6457599 41.1805278,-8.6457599 41...</td>\n",
       "    </tr>\n",
       "    <tr>\n",
       "      <th>6</th>\n",
       "      <td>62561,58603,701,26471,55235,55235,55235,55235,...</td>\n",
       "      <td>LINESTRING(-8.61551679314 41.140715625,-8.6148...</td>\n",
       "      <td>62561,58603,58083,65094,57135,701,26471,55235,...</td>\n",
       "      <td>LINESTRING(-8.61551679314 41.140715625,-8.6154...</td>\n",
       "    </tr>\n",
       "  </tbody>\n",
       "</table>\n",
       "</div>"
      ],
      "text/plain": [
       "                                                opath  \\\n",
       "id                                                      \n",
       "1   1095,1095,2732,2732,1093,1093,698,698,696,8687...   \n",
       "2   56205,56205,4790,70940,762,26201,26213,26202,5...   \n",
       "4   5224,5224,5224,5224,46845,46845,46845,46846,46...   \n",
       "5   60302,60302,67260,5878,5880,61719,765,70690,73...   \n",
       "6   62561,58603,701,26471,55235,55235,55235,55235,...   \n",
       "\n",
       "                                                pgeom  \\\n",
       "id                                                      \n",
       "1   LINESTRING(-8.61862328377 41.1414555366,-8.618...   \n",
       "2   LINESTRING(-8.63985895545 41.159750087,-8.6403...   \n",
       "4   LINESTRING(-8.5747537 41.1518991,-8.5747537 41...   \n",
       "5   LINESTRING(-8.6457599 41.1805278,-8.6457599 41...   \n",
       "6   LINESTRING(-8.61551679314 41.140715625,-8.6148...   \n",
       "\n",
       "                                                cpath  \\\n",
       "id                                                      \n",
       "1   1095,2732,1093,698,8704,62550,8703,696,8687,17...   \n",
       "2   56205,69910,69917,69912,4790,56207,26241,70940...   \n",
       "4   5224,46845,46861,46846,1004,1006,993,1015,3529...   \n",
       "5   60302,67260,57887,67265,5875,5878,5880,41236,6...   \n",
       "6   62561,58603,58083,65094,57135,701,26471,55235,...   \n",
       "\n",
       "                                                mgeom  \n",
       "id                                                     \n",
       "1   LINESTRING(-8.61862328377 41.1414555366,-8.618...  \n",
       "2   LINESTRING(-8.63985895545 41.159750087,-8.6405...  \n",
       "4   LINESTRING(-8.5747537 41.1518991,-8.5743688 41...  \n",
       "5   LINESTRING(-8.6457599 41.1805278,-8.6457599 41...  \n",
       "6   LINESTRING(-8.61551679314 41.140715625,-8.6154...  "
      ]
     },
     "execution_count": 1,
     "metadata": {},
     "output_type": "execute_result"
    }
   ],
   "source": [
    "import pandas as pd\n",
    "\n",
    "mr = pd.read_csv('data/mr.csv', sep=';', index_col=0)\n",
    "mr.sort_index(inplace=True)\n",
    "mr = mr.loc[mr['mgeom'] != 'LINESTRING()']\n",
    "# mr['mgeom'] = mr['mgeom'].apply(shapely.wkt.loads)\n",
    "# mr['pgeom'] = mr['pgeom'].apply(shapely.wkt.loads)\n",
    "# print(len(mr['pgeom'].iloc[0].coords))\n",
    "# print(len(mr['opath'].iloc[0].split(',')))\n",
    "# print(len(mr['cpath'].iloc[0].split(',')))\n",
    "mr.head()"
   ]
  },
  {
   "cell_type": "code",
   "execution_count": 2,
   "metadata": {},
   "outputs": [],
   "source": [
    "road_segments = mr['opath'].tolist()\n",
    "road_segments = \",\".join(road_segments).split(\",\")\n",
    "road_segments = [int(i) for i in road_segments]\n",
    "road_segments.sort()"
   ]
  },
  {
   "cell_type": "code",
   "execution_count": 3,
   "metadata": {},
   "outputs": [
    {
     "name": "stdout",
     "output_type": "stream",
     "text": [
      "5 FIDs of the road segments which are traversed most often:\n",
      "[608, 54764, 148, 25119, 2481]\n"
     ]
    }
   ],
   "source": [
    "import collections\n",
    "counter = collections.Counter(road_segments)\n",
    "result = counter.most_common(5)\n",
    "result = [i[0] for i in result]\n",
    "print(\"5 FIDs of the road segments which are traversed most often:\")\n",
    "print(result)"
   ]
  },
  {
   "cell_type": "markdown",
   "metadata": {},
   "source": [
    "## Visualize these road segments"
   ]
  },
  {
   "cell_type": "code",
   "execution_count": 4,
   "metadata": {},
   "outputs": [
    {
     "name": "stderr",
     "output_type": "stream",
     "text": [
      "/Users/junr/anaconda3/lib/python3.7/site-packages/IPython/core/interactiveshell.py:3072: DtypeWarning: Columns (10,14,15) have mixed types.Specify dtype option on import or set low_memory=False.\n",
      "  interactivity=interactivity, compiler=compiler, result=result)\n"
     ]
    },
    {
     "data": {
      "text/plain": [
       "fid\n",
       "148      LINESTRING (-8.6248431 41.1732342, -8.62544499...\n",
       "608      LINESTRING (-8.6678023 41.2363728, -8.66791560...\n",
       "2481     LINESTRING (-8.6680157 41.2299263, -8.6679482 ...\n",
       "25119    LINESTRING (-8.6695028 41.2377432, -8.6696046 ...\n",
       "54764    LINESTRING (-8.652828400000001 41.2121418, -8....\n",
       "Name: WKT, dtype: object"
      ]
     },
     "execution_count": 4,
     "metadata": {},
     "output_type": "execute_result"
    }
   ],
   "source": [
    "import osmnx as ox\n",
    "import shapely.wkt\n",
    "\n",
    "G = ox.load_graphml('data/porto-bbox.graphml')\n",
    "\n",
    "edges = pd.read_csv('data/porto-bbox/edges.csv', index_col='fid')['WKT']\n",
    "edges = edges[edges.index.isin(result)]\n",
    "edges = edges.apply(shapely.wkt.loads)\n",
    "edges\n"
   ]
  },
  {
   "cell_type": "code",
   "execution_count": 5,
   "metadata": {},
   "outputs": [],
   "source": [
    "import numpy as np\n",
    "coords = [np.array([list(i) for i in edges.iloc[j].coords]) for j in range(len(edges.index))]\n"
   ]
  },
  {
   "cell_type": "code",
   "execution_count": 6,
   "metadata": {},
   "outputs": [],
   "source": [
    "import matplotlib.pyplot as plt\n",
    "\n",
    "# Draw the basemap\n",
    "fig, ax = ox.plot_graph(G, node_size=0, show=False, close=False, figsize=(48, 48))\n",
    "\n",
    "# Get colors for each of the first 10 trajectories\n",
    "color_list = ox.plot.get_colors(5, cmap='rainbow', return_hex=True)\n",
    "\n",
    "# Plot the raw GPS points on the basemap\n",
    "for idx, c in enumerate(color_list):\n",
    "    plt.plot(*coords[idx].T, color=c, linewidth=4)\n",
    "\n",
    "# Save the map as an image file\n",
    "fig.savefig('output/task5-2.png', bbox_inches='tight', pad_inches=0)\n",
    "# plt.show()\n",
    "plt.close(fig)"
   ]
  }
 ],
 "metadata": {
  "kernelspec": {
   "display_name": "Python 3",
   "language": "python",
   "name": "python3"
  },
  "language_info": {
   "codemirror_mode": {
    "name": "ipython",
    "version": 3
   },
   "file_extension": ".py",
   "mimetype": "text/x-python",
   "name": "python",
   "nbconvert_exporter": "python",
   "pygments_lexer": "ipython3",
   "version": "3.7.7"
  }
 },
 "nbformat": 4,
 "nbformat_minor": 2
}
